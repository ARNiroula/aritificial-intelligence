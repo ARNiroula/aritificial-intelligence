{
 "cells": [
  {
   "cell_type": "markdown",
   "metadata": {},
   "source": [
    "# 8 Puzzle Game State Space Generation"
   ]
  },
  {
   "cell_type": "code",
   "execution_count": 2,
   "metadata": {},
   "outputs": [
    {
     "name": "stdout",
     "output_type": "stream",
     "text": [
      "Collecting anytree\n",
      "  Using cached anytree-2.8.0-py2.py3-none-any.whl (41 kB)\n",
      "Requirement already satisfied, skipping upgrade: six>=1.9.0 in c:\\users\\arnir\\anaconda3\\lib\\site-packages (from anytree) (1.14.0)\n",
      "Installing collected packages: anytree\n",
      "Successfully installed anytree-2.8.0\n"
     ]
    }
   ],
   "source": [
    "!python -m pip install -U anytree"
   ]
  },
  {
   "cell_type": "code",
   "execution_count": 68,
   "metadata": {},
   "outputs": [],
   "source": [
    "# imports that are used\n",
    "from anytree import Node, RenderTree,search\n",
    "from anytree.exporter import DotExporter\n",
    "from graphviz import Source\n",
    "import copy"
   ]
  },
  {
   "cell_type": "markdown",
   "metadata": {},
   "source": [
    "Specifying the Start State and End State"
   ]
  },
  {
   "cell_type": "markdown",
   "metadata": {},
   "source": [
    "Here, '0' represents the empty tile"
   ]
  },
  {
   "cell_type": "code",
   "execution_count": 69,
   "metadata": {},
   "outputs": [],
   "source": [
    "goal_state=[[1,2,3],[8,0,4],[7,6,5]]\n",
    "\n",
    "initial_state=[[2,8,3],[1,6,4],[7,0,5]]\n",
    "\n",
    "DEPTH=5   #Depth of the state space tree\n",
    "\n",
    "table=[]  #MEMO Table"
   ]
  },
  {
   "cell_type": "markdown",
   "metadata": {},
   "source": [
    "Defining the game rules"
   ]
  },
  {
   "cell_type": "code",
   "execution_count": 70,
   "metadata": {},
   "outputs": [],
   "source": [
    "def swapLeft(state):\n",
    "    for i,s in enumerate(state):\n",
    "        try:\n",
    "            row,col=i,s.index(0)\n",
    "        except:\n",
    "            continue\n",
    "    temp=copy.deepcopy(state)\n",
    "    if(col==0):\n",
    "        return []\n",
    "    temp[row][col],temp[row][col-1]=temp[row][col-1],temp[row][col]\n",
    "    col=col-1\n",
    "    return temp\n",
    "\n",
    "\n",
    "def swapRight(state):\n",
    "    for i,s in enumerate(state):\n",
    "        try:\n",
    "            row,col=i,s.index(0)\n",
    "        except:\n",
    "            continue\n",
    "    temp=copy.deepcopy(state)\n",
    "    if(col==2):\n",
    "        return []\n",
    "    temp[row][col],temp[row][col+1]=temp[row][col+1],temp[row][col]\n",
    "    col=col+1\n",
    "    return temp\n",
    "\n",
    "\n",
    "def swapUp(state):\n",
    "    for i,s in enumerate(state):\n",
    "        try:\n",
    "            row,col=i,s.index(0)\n",
    "        except:\n",
    "            continue\n",
    "    temp=copy.deepcopy(state)\n",
    "    if(row==0):\n",
    "        return[]\n",
    "    temp[row][col],temp[row-1][col]=temp[row-1][col],temp[row][col]\n",
    "    row=row-1\n",
    "    return temp\n",
    "\n",
    "\n",
    "def swapDown(state):\n",
    "    for i,s in enumerate(state):\n",
    "        try:\n",
    "            row,col=i,s.index(0)\n",
    "        except:\n",
    "            continue\n",
    "    temp=copy.deepcopy(state)\n",
    "    if(row==2):\n",
    "        return[]\n",
    "    temp[row][col],temp[row+1][col]=temp[row+1][col],temp[row][col]\n",
    "    row=row+1\n",
    "    return temp\n"
   ]
  },
  {
   "cell_type": "markdown",
   "metadata": {},
   "source": [
    "### Generation of state space tree depth-wise"
   ]
  },
  {
   "cell_type": "code",
   "execution_count": 71,
   "metadata": {},
   "outputs": [],
   "source": [
    "def depthFirstGeneration(node,root,counter):\n",
    "    global table\n",
    "    if(node.name in table):\n",
    "        return\n",
    "    if node.name==[] or node.name==goal_state or (counter!=DEPTH and node.name==initial_state):\n",
    "        return\n",
    "    if counter==0:\n",
    "        return\n",
    "    table.append(node.name)\n",
    "    node1=Node((swapLeft(node.name)),parent=root)\n",
    "    node2=Node((swapRight(node.name)),parent=root)\n",
    "    node3=Node((swapUp(node.name)),parent=root)\n",
    "    node4=Node((swapDown(node.name)),parent=root)\n",
    "    depthFirstGeneration(node1, node1, counter-1)\n",
    "    depthFirstGeneration(node2, node2, counter-1)\n",
    "    depthFirstGeneration(node3, node3, counter-1)\n",
    "    depthFirstGeneration(node4, node4, counter-1)"
   ]
  },
  {
   "cell_type": "markdown",
   "metadata": {},
   "source": [
    "### Simple printing of the State Space when the depth is 5"
   ]
  },
  {
   "cell_type": "code",
   "execution_count": 72,
   "metadata": {
    "scrolled": true
   },
   "outputs": [
    {
     "name": "stdout",
     "output_type": "stream",
     "text": [
      "[[2, 8, 3], [1, 6, 4], [7, 0, 5]]\n",
      "├── [[2, 8, 3], [1, 6, 4], [0, 7, 5]]\n",
      "│   ├── [[2, 8, 3], [1, 6, 4], [7, 0, 5]]\n",
      "│   └── [[2, 8, 3], [0, 6, 4], [1, 7, 5]]\n",
      "│       ├── [[2, 8, 3], [6, 0, 4], [1, 7, 5]]\n",
      "│       │   ├── [[2, 8, 3], [0, 6, 4], [1, 7, 5]]\n",
      "│       │   ├── [[2, 8, 3], [6, 4, 0], [1, 7, 5]]\n",
      "│       │   │   ├── [[2, 8, 3], [6, 0, 4], [1, 7, 5]]\n",
      "│       │   │   ├── [[2, 8, 0], [6, 4, 3], [1, 7, 5]]\n",
      "│       │   │   └── [[2, 8, 3], [6, 4, 5], [1, 7, 0]]\n",
      "│       │   ├── [[2, 0, 3], [6, 8, 4], [1, 7, 5]]\n",
      "│       │   │   ├── [[0, 2, 3], [6, 8, 4], [1, 7, 5]]\n",
      "│       │   │   ├── [[2, 3, 0], [6, 8, 4], [1, 7, 5]]\n",
      "│       │   │   └── [[2, 8, 3], [6, 0, 4], [1, 7, 5]]\n",
      "│       │   └── [[2, 8, 3], [6, 7, 4], [1, 0, 5]]\n",
      "│       │       ├── [[2, 8, 3], [6, 7, 4], [0, 1, 5]]\n",
      "│       │       ├── [[2, 8, 3], [6, 7, 4], [1, 5, 0]]\n",
      "│       │       └── [[2, 8, 3], [6, 0, 4], [1, 7, 5]]\n",
      "│       ├── [[0, 8, 3], [2, 6, 4], [1, 7, 5]]\n",
      "│       │   ├── [[8, 0, 3], [2, 6, 4], [1, 7, 5]]\n",
      "│       │   │   ├── [[0, 8, 3], [2, 6, 4], [1, 7, 5]]\n",
      "│       │   │   ├── [[8, 3, 0], [2, 6, 4], [1, 7, 5]]\n",
      "│       │   │   └── [[8, 6, 3], [2, 0, 4], [1, 7, 5]]\n",
      "│       │   └── [[2, 8, 3], [0, 6, 4], [1, 7, 5]]\n",
      "│       └── [[2, 8, 3], [1, 6, 4], [0, 7, 5]]\n",
      "├── [[2, 8, 3], [1, 6, 4], [7, 5, 0]]\n",
      "│   ├── [[2, 8, 3], [1, 6, 4], [7, 0, 5]]\n",
      "│   └── [[2, 8, 3], [1, 6, 0], [7, 5, 4]]\n",
      "│       ├── [[2, 8, 3], [1, 0, 6], [7, 5, 4]]\n",
      "│       │   ├── [[2, 8, 3], [0, 1, 6], [7, 5, 4]]\n",
      "│       │   │   ├── [[2, 8, 3], [1, 0, 6], [7, 5, 4]]\n",
      "│       │   │   ├── [[0, 8, 3], [2, 1, 6], [7, 5, 4]]\n",
      "│       │   │   └── [[2, 8, 3], [7, 1, 6], [0, 5, 4]]\n",
      "│       │   ├── [[2, 8, 3], [1, 6, 0], [7, 5, 4]]\n",
      "│       │   ├── [[2, 0, 3], [1, 8, 6], [7, 5, 4]]\n",
      "│       │   │   ├── [[0, 2, 3], [1, 8, 6], [7, 5, 4]]\n",
      "│       │   │   ├── [[2, 3, 0], [1, 8, 6], [7, 5, 4]]\n",
      "│       │   │   └── [[2, 8, 3], [1, 0, 6], [7, 5, 4]]\n",
      "│       │   └── [[2, 8, 3], [1, 5, 6], [7, 0, 4]]\n",
      "│       │       ├── [[2, 8, 3], [1, 5, 6], [0, 7, 4]]\n",
      "│       │       ├── [[2, 8, 3], [1, 5, 6], [7, 4, 0]]\n",
      "│       │       └── [[2, 8, 3], [1, 0, 6], [7, 5, 4]]\n",
      "│       ├── [[2, 8, 0], [1, 6, 3], [7, 5, 4]]\n",
      "│       │   ├── [[2, 0, 8], [1, 6, 3], [7, 5, 4]]\n",
      "│       │   │   ├── [[0, 2, 8], [1, 6, 3], [7, 5, 4]]\n",
      "│       │   │   ├── [[2, 8, 0], [1, 6, 3], [7, 5, 4]]\n",
      "│       │   │   └── [[2, 6, 8], [1, 0, 3], [7, 5, 4]]\n",
      "│       │   └── [[2, 8, 3], [1, 6, 0], [7, 5, 4]]\n",
      "│       └── [[2, 8, 3], [1, 6, 4], [7, 5, 0]]\n",
      "└── [[2, 8, 3], [1, 0, 4], [7, 6, 5]]\n",
      "    ├── [[2, 8, 3], [0, 1, 4], [7, 6, 5]]\n",
      "    │   ├── [[2, 8, 3], [1, 0, 4], [7, 6, 5]]\n",
      "    │   ├── [[0, 8, 3], [2, 1, 4], [7, 6, 5]]\n",
      "    │   │   ├── [[8, 0, 3], [2, 1, 4], [7, 6, 5]]\n",
      "    │   │   │   ├── [[0, 8, 3], [2, 1, 4], [7, 6, 5]]\n",
      "    │   │   │   ├── [[8, 3, 0], [2, 1, 4], [7, 6, 5]]\n",
      "    │   │   │   └── [[8, 1, 3], [2, 0, 4], [7, 6, 5]]\n",
      "    │   │   └── [[2, 8, 3], [0, 1, 4], [7, 6, 5]]\n",
      "    │   └── [[2, 8, 3], [7, 1, 4], [0, 6, 5]]\n",
      "    │       ├── [[2, 8, 3], [7, 1, 4], [6, 0, 5]]\n",
      "    │       │   ├── [[2, 8, 3], [7, 1, 4], [0, 6, 5]]\n",
      "    │       │   ├── [[2, 8, 3], [7, 1, 4], [6, 5, 0]]\n",
      "    │       │   └── [[2, 8, 3], [7, 0, 4], [6, 1, 5]]\n",
      "    │       └── [[2, 8, 3], [0, 1, 4], [7, 6, 5]]\n",
      "    ├── [[2, 8, 3], [1, 4, 0], [7, 6, 5]]\n",
      "    │   ├── [[2, 8, 3], [1, 0, 4], [7, 6, 5]]\n",
      "    │   ├── [[2, 8, 0], [1, 4, 3], [7, 6, 5]]\n",
      "    │   │   ├── [[2, 0, 8], [1, 4, 3], [7, 6, 5]]\n",
      "    │   │   │   ├── [[0, 2, 8], [1, 4, 3], [7, 6, 5]]\n",
      "    │   │   │   ├── [[2, 8, 0], [1, 4, 3], [7, 6, 5]]\n",
      "    │   │   │   └── [[2, 4, 8], [1, 0, 3], [7, 6, 5]]\n",
      "    │   │   └── [[2, 8, 3], [1, 4, 0], [7, 6, 5]]\n",
      "    │   └── [[2, 8, 3], [1, 4, 5], [7, 6, 0]]\n",
      "    │       ├── [[2, 8, 3], [1, 4, 5], [7, 0, 6]]\n",
      "    │       │   ├── [[2, 8, 3], [1, 4, 5], [0, 7, 6]]\n",
      "    │       │   ├── [[2, 8, 3], [1, 4, 5], [7, 6, 0]]\n",
      "    │       │   └── [[2, 8, 3], [1, 0, 5], [7, 4, 6]]\n",
      "    │       └── [[2, 8, 3], [1, 4, 0], [7, 6, 5]]\n",
      "    ├── [[2, 0, 3], [1, 8, 4], [7, 6, 5]]\n",
      "    │   ├── [[0, 2, 3], [1, 8, 4], [7, 6, 5]]\n",
      "    │   │   ├── [[2, 0, 3], [1, 8, 4], [7, 6, 5]]\n",
      "    │   │   └── [[1, 2, 3], [0, 8, 4], [7, 6, 5]]\n",
      "    │   │       ├── [[1, 2, 3], [8, 0, 4], [7, 6, 5]]\n",
      "    │   │       ├── [[0, 2, 3], [1, 8, 4], [7, 6, 5]]\n",
      "    │   │       └── [[1, 2, 3], [7, 8, 4], [0, 6, 5]]\n",
      "    │   ├── [[2, 3, 0], [1, 8, 4], [7, 6, 5]]\n",
      "    │   │   ├── [[2, 0, 3], [1, 8, 4], [7, 6, 5]]\n",
      "    │   │   └── [[2, 3, 4], [1, 8, 0], [7, 6, 5]]\n",
      "    │   │       ├── [[2, 3, 4], [1, 0, 8], [7, 6, 5]]\n",
      "    │   │       ├── [[2, 3, 0], [1, 8, 4], [7, 6, 5]]\n",
      "    │   │       └── [[2, 3, 4], [1, 8, 5], [7, 6, 0]]\n",
      "    │   └── [[2, 8, 3], [1, 0, 4], [7, 6, 5]]\n",
      "    └── [[2, 8, 3], [1, 6, 4], [7, 0, 5]]\n"
     ]
    }
   ],
   "source": [
    "root=copy.deepcopy(initial_state)\n",
    "root=Node(root)\n",
    "depthFirstGeneration(root, root,DEPTH)\n",
    "for pre, fill, node in RenderTree(root):\n",
    "        if len(node.name)==0:\n",
    "            node.parent=None\n",
    "for pre, fill, node in RenderTree(root):\n",
    "    print(f\"{pre}{node.name}\")"
   ]
  },
  {
   "cell_type": "markdown",
   "metadata": {},
   "source": [
    "## For graphical Representation of the state space"
   ]
  },
  {
   "cell_type": "code",
   "execution_count": 73,
   "metadata": {},
   "outputs": [],
   "source": [
    "DotExporter(root).to_dotfile(\"tree.dot\")   ### EXPORTING THE TREE AS DOT FILE"
   ]
  },
  {
   "cell_type": "markdown",
   "metadata": {},
   "source": [
    "The dot file is then read and using the graphviz library, its graphically represented"
   ]
  },
  {
   "cell_type": "code",
   "execution_count": 74,
   "metadata": {},
   "outputs": [
    {
     "data": {
      "text/plain": [
       "'Source.gv.png'"
      ]
     },
     "execution_count": 74,
     "metadata": {},
     "output_type": "execute_result"
    }
   ],
   "source": [
    "dot_file=open('tree.dot','r')\n",
    "file=dot_file.read()\n",
    "dot_file.close()\n",
    "s=Source(file,format='png')\n",
    "s.view()"
   ]
  },
  {
   "cell_type": "markdown",
   "metadata": {},
   "source": [
    "![alt text](Source.gv.png \"State Space\")"
   ]
  },
  {
   "cell_type": "markdown",
   "metadata": {},
   "source": [
    "### A portion of the state space is:"
   ]
  },
  {
   "cell_type": "markdown",
   "metadata": {},
   "source": [
    "![alt text](statePart.png \"Part\")"
   ]
  },
  {
   "cell_type": "markdown",
   "metadata": {},
   "source": [
    "### One of the paths to the goal space "
   ]
  },
  {
   "cell_type": "code",
   "execution_count": 76,
   "metadata": {},
   "outputs": [
    {
     "name": "stdout",
     "output_type": "stream",
     "text": [
      "(Node('/[[2, 8, 3], [1, 6, 4], [7, 0, 5]]/[[2, 8, 3], [1, 0, 4], [7, 6, 5]]/[[2, 0, 3], [1, 8, 4], [7, 6, 5]]/[[0, 2, 3], [1, 8, 4], [7, 6, 5]]/[[1, 2, 3], [0, 8, 4], [7, 6, 5]]/[[1, 2, 3], [8, 0, 4], [7, 6, 5]]'),)\n"
     ]
    }
   ],
   "source": [
    "goal_paths=(search.findall(root, lambda node: node.name == (goal_state)))\n",
    "print((goal_paths))"
   ]
  }
 ],
 "metadata": {
  "kernelspec": {
   "display_name": "Python 3",
   "language": "python",
   "name": "python3"
  },
  "language_info": {
   "codemirror_mode": {
    "name": "ipython",
    "version": 3
   },
   "file_extension": ".py",
   "mimetype": "text/x-python",
   "name": "python",
   "nbconvert_exporter": "python",
   "pygments_lexer": "ipython3",
   "version": "3.7.6"
  }
 },
 "nbformat": 4,
 "nbformat_minor": 4
}
